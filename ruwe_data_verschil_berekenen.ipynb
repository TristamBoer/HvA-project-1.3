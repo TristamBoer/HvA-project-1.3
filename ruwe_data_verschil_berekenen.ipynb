{
 "cells": [
  {
   "cell_type": "code",
   "execution_count": null,
   "id": "7b403610-79f8-4543-8063-f5f6ef6291bd",
   "metadata": {},
   "outputs": [],
   "source": [
    "from scipy.io.wavfile import read\n",
    "import numpy\n",
    "import numpy as np\n",
    "\n",
    "a = read(\"output.wav\")\n",
    "x = numpy.array(a[1],dtype=float)\n",
    "\n",
    "index_of_max = np.argmax(x)\n",
    "print(index_of_max, \"     max waarde\")\n",
    "\n",
    "value_of_max = x[index_of_max]\n",
    "\n",
    "sliced_array = x[index_of_max:]\n",
    "\n",
    "value_of_max_delen_door_8 = value_of_max / 8.635\n",
    "\n",
    "def find_nearest_value(array, value):\n",
    "    array = np.asarray(array)\n",
    "    idx = (np.abs(array - value)).argmin()\n",
    "    return array[idx]\n",
    "\n",
    "value_of_max_delen_door_8 = find_nearest_value(sliced_array, value_of_max_delen_door_8)\n",
    "\n",
    "# print(value_of_max_delen_door_8)\n",
    "index_of_max_delen_door_8 = np.where(x == value_of_max_delen_door_8)[0][0]\n",
    "\n",
    "print(index_of_max_delen_door_8, \"     max waarde delen door 8\")\n",
    "\n",
    "verschil = index_of_max_delen_door_8 - index_of_max\n",
    "\n",
    "print(verschil, \"      verschil tussen waardes\")\n",
    "\n",
    "verschil3 = verschil * 3\n",
    "\n",
    "print(verschil3, \"     3 keer verschil tussen waardes\")\n",
    "\n",
    "verschil3_t = verschil3 / 44100\n",
    "\n",
    "print(verschil3_t, \"      nagalmtijd in seconden\")"
   ]
  }
 ],
 "metadata": {
  "kernelspec": {
   "display_name": "Python 3 (ipykernel)",
   "language": "python",
   "name": "python3"
  },
  "language_info": {
   "codemirror_mode": {
    "name": "ipython",
    "version": 3
   },
   "file_extension": ".py",
   "mimetype": "text/x-python",
   "name": "python",
   "nbconvert_exporter": "python",
   "pygments_lexer": "ipython3",
   "version": "3.9.13"
  }
 },
 "nbformat": 4,
 "nbformat_minor": 5
}
