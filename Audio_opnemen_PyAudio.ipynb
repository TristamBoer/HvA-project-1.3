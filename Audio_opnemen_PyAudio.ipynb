{
 "cells": [
  {
   "cell_type": "code",
   "execution_count": 3,
   "id": "63319f73",
   "metadata": {},
   "outputs": [
    {
     "name": "stdout",
     "output_type": "stream",
     "text": [
      "Opname gestart\n",
      "Opname gestopt\n"
     ]
    },
    {
     "data": {
      "text/plain": [
       "<bound method Wave_write.close of <wave.Wave_write object at 0x000001ED8BFB9CD0>>"
      ]
     },
     "execution_count": 3,
     "metadata": {},
     "output_type": "execute_result"
    }
   ],
   "source": [
    "import pyaudio\n",
    "import wave\n",
    "Chunk=1024\n",
    "Format = pyaudio.paInt16\n",
    "Channels = 1\n",
    "Rate = 44100\n",
    "\n",
    "p = pyaudio.PyAudio( )\n",
    "stream = p.open(format=Format,\n",
    "              channels=Channels,\n",
    "              rate=Rate,\n",
    "              input=True,\n",
    "              frames_per_buffer=Chunk)\n",
    "print(\"Opname gestart\")\n",
    "frames = []\n",
    "seconds = 5\n",
    "for i in range(0,int(Rate/Chunk*seconds)):\n",
    "    data = stream.read(Chunk)\n",
    "    frames.append(data)\n",
    "print(\"Opname gestopt\")\n",
    "stream.stop_stream()\n",
    "stream.close()\n",
    "p.terminate()\n",
    "\n",
    "wf = wave.open(\"geen_sounddevice_nagalm_test_2.wav\", 'wb')\n",
    "wf.setnchannels(Channels)\n",
    "wf.setsampwidth(p.get_sample_size(Format))\n",
    "wf.setframerate(Rate)\n",
    "wf.writeframes(b''.join(frames))\n",
    "wf.close"
   ]
  }
 ],
 "metadata": {
  "kernelspec": {
   "display_name": "Python 3 (ipykernel)",
   "language": "python",
   "name": "python3"
  },
  "language_info": {
   "codemirror_mode": {
    "name": "ipython",
    "version": 3
   },
   "file_extension": ".py",
   "mimetype": "text/x-python",
   "name": "python",
   "nbconvert_exporter": "python",
   "pygments_lexer": "ipython3",
   "version": "3.9.13"
  }
 },
 "nbformat": 4,
 "nbformat_minor": 5
}
