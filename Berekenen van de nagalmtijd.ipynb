{
 "cells": [
  {
   "cell_type": "code",
   "execution_count": null,
   "id": "36318431",
   "metadata": {},
   "outputs": [],
   "source": [
    "import numpy as np\n",
    "import matplotlib.pyplot as plt\n",
    "from scipy.io import wavfile\n",
    "from math import log10, pow\n",
    "import audioop  \n",
    "\n",
    "def find_nearest_value(array, value):\n",
    "    array = np.asarray(array)\n",
    "    idx = (np.abs(array - value)).argmin()\n",
    "    return array[idx]\n",
    "\n",
    "sample_rate, data = wavfile.read('nagalmtest_1', 'r')\n",
    "\n",
    "# Vinden index van een maximale waarde\n",
    "index_of_max = np.argmax(data)\n",
    "list_max = [index_of_max,index_of_max+1, index_of_max+2, index_of_max+3]\n",
    "value_of_max = data[list_max]\n",
    "\n",
    "# Bereken maximale db\n",
    "scaled_data = audioop.rms(value_of_max, 4) / (2.**15)\n",
    "db = 20 * log10(scaled_data)  \n",
    "\n",
    "# Vind de maximale db min 5\n",
    "value_of_max_less_5 = ((pow(2,15) * pow(10,(db-5) / 20)))\n",
    "value_of_max_less_5 = find_nearest_value(data, value_of_max_less_5)\n",
    "index_of_max_less_5 = np.mean(np.where(data == value_of_max_less_5))\n",
    "\n",
    "# Vind maximale db min 25\n",
    "value_of_max_less_25 = ((pow(2,15) * pow(10,(db-25) / 20)))\n",
    "value_of_max_less_25 = find_nearest_value(data, value_of_max_less_25)\n",
    "index_of_max_less_25 = np.mean(np.where(data == value_of_max_less_25))\n",
    "\n",
    "# Bereken verschil in tijd doe het keer 3 en deel door 4 voor rt60\n",
    "rt20=(index_of_max_less_25-value_of_max_less_5) / 44100\n",
    "rt60=np.mean(rt20 * 3/4)\n",
    "rt60"
   ]
  }
 ],
 "metadata": {
  "kernelspec": {
   "display_name": "Python 3 (ipykernel)",
   "language": "python",
   "name": "python3"
  },
  "language_info": {
   "codemirror_mode": {
    "name": "ipython",
    "version": 3
   },
   "file_extension": ".py",
   "mimetype": "text/x-python",
   "name": "python",
   "nbconvert_exporter": "python",
   "pygments_lexer": "ipython3",
   "version": "3.9.13"
  }
 },
 "nbformat": 4,
 "nbformat_minor": 5
}
